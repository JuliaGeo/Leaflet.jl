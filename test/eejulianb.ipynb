{
 "cells": [
  {
   "cell_type": "code",
   "execution_count": 1,
   "id": "4f32168c",
   "metadata": {},
   "outputs": [
    {
     "data": {
      "application/vnd.webio.node+json": {
       "children": [],
       "instanceArgs": {
        "namespace": "html",
        "tag": "div"
       },
       "nodeType": "DOM",
       "props": {},
       "type": "node"
      },
      "text/html": [
       "<div style=\"padding: 1em; background-color: #f8d6da; border: 1px solid #f5c6cb; font-weight: bold;\">\n",
       "<p>The WebIO Jupyter extension was not detected. See the\n",
       "<a href=\"https://juliagizmos.github.io/WebIO.jl/latest/providers/ijulia/\" target=\"_blank\">\n",
       "    WebIO Jupyter integration documentation\n",
       "</a>\n",
       "for more information.\n",
       "</div>\n"
      ],
      "text/plain": [
       "WebIO._IJuliaInit()"
      ]
     },
     "metadata": {
      "application/vnd.webio.node+json": {
       "kernelId": "94187f0d-c917-458b-ba0b-df1ec7693dd5"
      }
     },
     "output_type": "display_data"
    }
   ],
   "source": [
    "using EarthEngine, Test, WebIO, LeafletJS, Colors, Plots"
   ]
  },
  {
   "cell_type": "code",
   "execution_count": 2,
   "id": "dd9d674f",
   "metadata": {},
   "outputs": [
    {
     "ename": "LoadError",
     "evalue": "UndefVarError: Provider not defined",
     "output_type": "error",
     "traceback": [
      "UndefVarError: Provider not defined",
      "",
      "Stacktrace:",
      " [1] top-level scope",
      "   @ In[2]:1",
      " [2] eval",
      "   @ .\\boot.jl:373 [inlined]",
      " [3] include_string(mapexpr::typeof(REPL.softscope), mod::Module, code::String, filename::String)",
      "   @ Base .\\loading.jl:1196"
     ]
    }
   ],
   "source": [
    "osm = Provider.OSM()\n",
    "osm_bw = Provider.OSMBlackAndWhite()\n",
    "osm_france = Provider.OSMDE()\n",
    "osm_de = Provider.OSMDE()\n",
    "otm = Provider.OpenTopoMap()\n",
    "carto = Provider.CARTO()\n",
    "esri = Provider.Esri()\n",
    "# thunderforest = Provider.Thunderforest(\"someapikey\")\n",
    "# mapbox = Provider.MapBox(\"sometoken\")"
   ]
  },
  {
   "cell_type": "code",
   "execution_count": 3,
   "id": "4c8f02e9",
   "metadata": {},
   "outputs": [
    {
     "data": {
      "text/plain": [
       "LeafletJS.Provider.LeafletProvider(\"http://{s}.tile.openstreetmap.se/hydda/{variant}/{z}/{x}/{y}.png\", Dict{Symbol, Any}(:maxZoom => 18, :variant => \"full\", :attribution => \"Tiles courtesy of <a href=\\\"http://openstreetmap.se/\\\" target=\\\"_blank\\\">OpenStreetMap Sweden</a> &mdash; Map data {attribution.OpenStreetMap}\"))"
      ]
     },
     "execution_count": 3,
     "metadata": {},
     "output_type": "execute_result"
    }
   ],
   "source": [
    "# These dn't seem to work out of the box ?\n",
    "owm = Provider.OpenWeatherMap()\n",
    "stamen = Provider.Stamen() # Not working?\n",
    "osm = Provider.OpenSeaMap() # Not working?\n",
    "hydda = Provider.Hydda() # Not working?"
   ]
  },
  {
   "cell_type": "code",
   "execution_count": 5,
   "id": "fd67b265",
   "metadata": {},
   "outputs": [
    {
     "data": {
      "application/vnd.webio.node+json": {
       "children": [
        {
         "children": [
          {
           "children": [
            ""
           ],
           "instanceArgs": {
            "namespace": "html",
            "tag": "div"
           },
           "nodeType": "DOM",
           "props": {
            "id": "mapd7ef7554-a599-49ec-8636-d74961ca3860",
            "style": {
             "display": "flex",
             "flex": 5,
             "position ": "relative"
            }
           },
           "type": "node"
          }
         ],
         "instanceArgs": {
          "namespace": "html",
          "tag": "div"
         },
         "nodeType": "DOM",
         "props": {
          "style": {
           "display": "flex",
           "flex-direction": "column-reverse",
           "min-height": "400px"
          }
         },
         "type": "node"
        }
       ],
       "instanceArgs": {
        "handlers": {},
        "id": "324809099121507588",
        "imports": {
         "data": [
          {
           "name": null,
           "type": "js",
           "url": "https://unpkg.com/leaflet@1.7.1/dist/leaflet.js"
          },
          {
           "name": null,
           "type": "css",
           "url": "https://unpkg.com/leaflet@1.7.1/dist/leaflet.css"
          },
          {
           "name": null,
           "type": "js",
           "url": "https://cdnjs.cloudflare.com/ajax/libs/underscore.js/1.8.3/underscore.js"
          },
          {
           "name": null,
           "type": "js",
           "url": "https://cdnjs.cloudflare.com/ajax/libs/chroma-js/1.3.3/chroma.min.js"
          }
         ],
         "type": "async_block"
        },
        "mount_callbacks": [
         "function () {\n    var handler = (function(p) {\n    var map = L.map('mapd7ef7554-a599-49ec-8636-d74961ca3860').setView([0.0, 0.0], 3);\n    L.tileLayer(\"http://{s}.tiles.wmflabs.org/bw-mapnik/{z}/{x}/{y}.png\",\"{\\nmaxZoom: 18,\\nattribution: \\\"&copy; <a href=\\\\\\\"http://www.openstreetmap.org/copyright\\\\\\\">OpenStreetMap</a>\\\"\\n}\").addTo(map);\n    \n    \n}\n);\n    (WebIO.importBlock({\"data\":[{\"name\":null,\"type\":\"js\",\"url\":\"https://unpkg.com/leaflet@1.7.1/dist/leaflet.js\"},{\"name\":null,\"type\":\"css\",\"url\":\"https://unpkg.com/leaflet@1.7.1/dist/leaflet.css\"},{\"name\":null,\"type\":\"js\",\"url\":\"https://cdnjs.cloudflare.com/ajax/libs/underscore.js/1.8.3/underscore.js\"},{\"name\":null,\"type\":\"js\",\"url\":\"https://cdnjs.cloudflare.com/ajax/libs/chroma-js/1.3.3/chroma.min.js\"}],\"type\":\"async_block\"})).then((imports) => handler.apply(this, imports));\n}\n"
        ],
        "observables": {},
        "systemjs_options": null
       },
       "nodeType": "Scope",
       "props": {},
       "type": "node"
      },
      "text/html": [
       "<div\n",
       "    class=\"webio-mountpoint\"\n",
       "    data-webio-mountpoint=\"13652449376547375003\"\n",
       ">\n",
       "    <script>\n",
       "    (function(){\n",
       "    // Some integrations (namely, IJulia/Jupyter) use an alternate render pathway than\n",
       "    // just putting the html on the page. If WebIO isn't defined, then it's pretty likely\n",
       "    // that we're in one of those situations and the integration just isn't installed\n",
       "    // correctly.\n",
       "    if (typeof window.WebIO === \"undefined\") {\n",
       "        document\n",
       "            .querySelector('[data-webio-mountpoint=\"13652449376547375003\"]')\n",
       "            .innerHTML = (\n",
       "                '<div style=\"padding: 1em; background-color: #f8d6da; border: 1px solid #f5c6cb; font-weight: bold;\">' +\n",
       "                '<p><strong>WebIO not detected.</strong></p>' +\n",
       "                '<p>Please read ' +\n",
       "                '<a href=\"https://juliagizmos.github.io/WebIO.jl/latest/troubleshooting/not-detected/\" target=\"_blank\">the troubleshooting guide</a> ' +\n",
       "                'for more information on how to resolve this issue.</p>' +\n",
       "                '<p><a href=\"https://juliagizmos.github.io/WebIO.jl/latest/troubleshooting/not-detected/\" target=\"_blank\">https://juliagizmos.github.io/WebIO.jl/latest/troubleshooting/not-detected/</a></p>' +\n",
       "                '</div>'\n",
       "            );\n",
       "        return;\n",
       "    }\n",
       "    WebIO.mount(\n",
       "        document.querySelector('[data-webio-mountpoint=\"13652449376547375003\"]'),\n",
       "        {\"props\":{},\"nodeType\":\"Scope\",\"type\":\"node\",\"instanceArgs\":{\"imports\":{\"data\":[{\"name\":null,\"type\":\"js\",\"url\":\"https:\\/\\/unpkg.com\\/leaflet@1.7.1\\/dist\\/leaflet.js\"},{\"name\":null,\"type\":\"css\",\"url\":\"https:\\/\\/unpkg.com\\/leaflet@1.7.1\\/dist\\/leaflet.css\"},{\"name\":null,\"type\":\"js\",\"url\":\"https:\\/\\/cdnjs.cloudflare.com\\/ajax\\/libs\\/underscore.js\\/1.8.3\\/underscore.js\"},{\"name\":null,\"type\":\"js\",\"url\":\"https:\\/\\/cdnjs.cloudflare.com\\/ajax\\/libs\\/chroma-js\\/1.3.3\\/chroma.min.js\"}],\"type\":\"async_block\"},\"id\":\"324809099121507588\",\"handlers\":{},\"systemjs_options\":null,\"mount_callbacks\":[\"function () {\\n    var handler = (function(p) {\\n    var map = L.map('mapd7ef7554-a599-49ec-8636-d74961ca3860').setView([0.0, 0.0], 3);\\n    L.tileLayer(\\\"http:\\/\\/{s}.tiles.wmflabs.org\\/bw-mapnik\\/{z}\\/{x}\\/{y}.png\\\",\\\"{\\\\nmaxZoom: 18,\\\\nattribution: \\\\\\\"&copy; <a href=\\\\\\\\\\\\\\\"http:\\/\\/www.openstreetmap.org\\/copyright\\\\\\\\\\\\\\\">OpenStreetMap<\\/a>\\\\\\\"\\\\n}\\\").addTo(map);\\n    \\n    \\n}\\n);\\n    (WebIO.importBlock({\\\"data\\\":[{\\\"name\\\":null,\\\"type\\\":\\\"js\\\",\\\"url\\\":\\\"https:\\/\\/unpkg.com\\/leaflet@1.7.1\\/dist\\/leaflet.js\\\"},{\\\"name\\\":null,\\\"type\\\":\\\"css\\\",\\\"url\\\":\\\"https:\\/\\/unpkg.com\\/leaflet@1.7.1\\/dist\\/leaflet.css\\\"},{\\\"name\\\":null,\\\"type\\\":\\\"js\\\",\\\"url\\\":\\\"https:\\/\\/cdnjs.cloudflare.com\\/ajax\\/libs\\/underscore.js\\/1.8.3\\/underscore.js\\\"},{\\\"name\\\":null,\\\"type\\\":\\\"js\\\",\\\"url\\\":\\\"https:\\/\\/cdnjs.cloudflare.com\\/ajax\\/libs\\/chroma-js\\/1.3.3\\/chroma.min.js\\\"}],\\\"type\\\":\\\"async_block\\\"})).then((imports) => handler.apply(this, imports));\\n}\\n\"],\"observables\":{}},\"children\":[{\"props\":{\"style\":{\"display\":\"flex\",\"min-height\":\"400px\",\"flex-direction\":\"column-reverse\"}},\"nodeType\":\"DOM\",\"type\":\"node\",\"instanceArgs\":{\"namespace\":\"html\",\"tag\":\"div\"},\"children\":[{\"props\":{\"id\":\"mapd7ef7554-a599-49ec-8636-d74961ca3860\",\"style\":{\"position \":\"relative\",\"display\":\"flex\",\"flex\":5}},\"nodeType\":\"DOM\",\"type\":\"node\",\"instanceArgs\":{\"namespace\":\"html\",\"tag\":\"div\"},\"children\":[\"\"]}]}]},\n",
       "        window,\n",
       "    );\n",
       "    })()\n",
       "    </script>\n",
       "</div>\n"
      ],
      "text/plain": [
       "(Scope(Node{WebIO.DOM}(WebIO.DOM(:html, :div), Any[Node{WebIO.DOM}(WebIO.DOM(:html, :div), Any[\"\"], Dict{Symbol, Any}(:id => \"mapd7ef7554-a599-49ec-8636-d74961ca3860\", :style => Dict{String, Any}(\"position \" => \"relative\", \"display\" => \"flex\", \"flex\" => 5)))], Dict{Symbol, Any}(:style => Dict(\"display\" => \"flex\", \"min-height\" => \"400px\", \"flex-direction\" => \"column-reverse\"))), Dict{String, Tuple{Observables.AbstractObservable, Union{Nothing, Bool}}}(), Set{String}(), nothing, Asset[Asset(\"js\", nothing, \"https://unpkg.com/leaflet@1.7.1/dist/leaflet.js\"), Asset(\"css\", nothing, \"https://unpkg.com/leaflet@1.7.1/dist/leaflet.css\"), Asset(\"js\", nothing, \"https://cdnjs.cloudflare.com/ajax/libs/underscore.js/1.8.3/underscore.js\"), Asset(\"js\", nothing, \"https://cdnjs.cloudflare.com/ajax/libs/chroma-js/1.3.3/chroma.min.js\")], Dict{Any, Any}(), WebIO.ConnectionPool(Channel{Any}(32), Set{AbstractConnection}(), Condition(Base.InvasiveLinkedList{Task}(Task (runnable) @0x0000000076e1cbb0, Task (runnable) @0x0000000076e1cbb0), Base.AlwaysLockedST(1))), WebIO.JSString[WebIO.JSString(\"function () {\\n    var handler = (function(p) {\\n    var map = L.map('mapd7ef7554-a599-49ec-8636-d74961ca3860').setView([0.0, 0.0], 3);\\n    L.tileLayer(\\\"http://{s}.tiles.wmflabs.org/bw-mapnik/{z}/{x}/{y}.png\\\",\\\"{\\\\nmaxZoom: 18,\\\\nattribution: \\\\\\\"&copy; <a href=\\\\\\\\\\\\\\\"http://www.openstreetmap.org/copyright\\\\\\\\\\\\\\\">OpenStreetMap</a>\\\\\\\"\\\\n}\\\").addTo(map);\\n    \\n    \\n}\\n);\\n    (WebIO.importBlock({\\\"data\\\":[{\\\"name\\\":null,\\\"type\\\":\\\"js\\\",\\\"url\\\":\\\"https://unpkg.com/leaflet@1.7.1/dist/leaflet.js\\\"},{\\\"name\\\":null,\\\"type\\\":\\\"css\\\",\\\"url\\\":\\\"https://unpkg.com/leaflet@1.7.1/dist/leaflet.css\\\"},{\\\"name\\\":null,\\\"type\\\":\\\"js\\\",\\\"url\\\":\\\"https://cdnjs.cloudflare.com/ajax/libs/underscore.js/1.8.3/underscore.js\\\"},{\\\"name\\\":null,\\\"type\\\":\\\"js\\\",\\\"url\\\":\\\"https://cdnjs.cloudflare.com/ajax/libs/chroma-js/1.3.3/chroma.min.js\\\"}],\\\"type\\\":\\\"async_block\\\"})).then((imports) => handler.apply(this, imports));\\n}\\n\")]):\n",
       "  (div { style=Dict(\"display\" => \"flex\", \"min-height\" => \"400px\", \"flex-direction\" => \"column-reverse\") }\n",
       "    (div { id=\"mapd7ef7554-a599-49ec-8636-d74961ca3860\" style=Dict{String, Any}(\"position \" => \"relative\", \"display\" => \"flex\", \"flex\" => 5) }\n",
       "      \"\")))"
      ]
     },
     "execution_count": 5,
     "metadata": {
      "application/vnd.webio.node+json": {
       "kernelId": "c29f6eb8-c600-4b7d-bada-910cb902acdf"
      }
     },
     "output_type": "execute_result"
    }
   ],
   "source": [
    "map = LeafletMap(; provider=osm_bw, zoom=3);\n",
    "# Notebooks currently needs this to work, I'm not sure why\n",
    "WebIO.render(map)"
   ]
  },
  {
   "cell_type": "code",
   "execution_count": 2,
   "id": "5ef07a9d",
   "metadata": {},
   "outputs": [],
   "source": [
    "Initialize()"
   ]
  },
  {
   "cell_type": "code",
   "execution_count": 3,
   "id": "fc02b8bf",
   "metadata": {},
   "outputs": [
    {
     "data": {
      "text/plain": [
       "EarthEngine.Image(PyObject <ee.image.Image object at 0x000000008FD28790>)"
      ]
     },
     "execution_count": 3,
     "metadata": {},
     "output_type": "execute_result"
    }
   ],
   "source": [
    "imcollection = filterDate(EE.ImageCollection(\"MODIS/006/MOD10A1\"), \"2021-07-15\", \"2021-07-31\")\n",
    "image = mean(select(imcollection, \"Snow_Albedo_Daily_Tile\"))"
   ]
  },
  {
   "cell_type": "code",
   "execution_count": 4,
   "id": "30c25bc4",
   "metadata": {},
   "outputs": [
    {
     "data": {
      "text/plain": [
       "Dict{Symbol, Any} with 3 entries:\n",
       "  :max     => 100\n",
       "  :palette => [\"#291b32\", \"#2a1b34\", \"#2b1b34\", \"#2d1c36\", \"#2f1c38\", \"#301c39\"…\n",
       "  :min     => 0"
      ]
     },
     "execution_count": 4,
     "metadata": {},
     "output_type": "execute_result"
    }
   ],
   "source": [
    "blue_fluorite = [\"#291b32\", \"#2a1b34\", \"#2b1b34\", \"#2d1c36\", \"#2f1c38\", \"#301c39\", \"#301d3a\", \"#321d3b\", \"#331d3d\", \"#351d3f\", \"#351e40\", \"#371e41\", \"#381e43\", \"#3a1e45\", \"#3b1f45\", \"#3c1f46\", \"#3e1f48\", \"#3f1f4a\", \"#401f4c\", \"#42204d\", \"#43204e\", \"#44204f\", \"#462051\", \"#472052\", \"#482054\", \"#4a2056\", \"#4a2157\", \"#4c2158\", \"#4e215a\", \"#4f215b\", \"#50215d\", \"#52215e\", \"#532160\", \"#552162\", \"#552263\", \"#562264\", \"#582265\", \"#592267\", \"#5b2268\", \"#5c226b\", \"#5e226c\", \"#5f226e\", \"#60226f\", \"#622271\", \"#632272\", \"#642274\", \"#662276\", \"#672277\", \"#692278\", \"#6a227a\", \"#6c227b\", \"#6e227d\", \"#6e237e\", \"#6f247f\", \"#702480\", \"#712581\", \"#722681\", \"#732683\", \"#742783\", \"#752884\", \"#762985\", \"#772987\", \"#792a87\", \"#792b88\", \"#7a2c89\", \"#7b2c8a\", \"#7c2d8a\", \"#7d2d8c\", \"#7e2e8d\", \"#7f2f8d\", \"#80308e\", \"#813190\", \"#823191\", \"#833292\", \"#843292\", \"#863393\", \"#863494\", \"#873595\", \"#893596\", \"#8a3697\", \"#8b3798\", \"#8b3899\", \"#8c389a\", \"#8e399b\", \"#8e3a9c\", \"#8f3b9c\", \"#8f3d9d\", \"#8f3e9e\", \"#903f9e\", \"#90419e\", \"#90439f\", \"#9044a0\", \"#9046a0\", \"#9047a1\", \"#9049a1\", \"#914aa2\", \"#914ca2\", \"#914ca3\", \"#914ea3\", \"#9150a4\", \"#9151a5\", \"#9153a5\", \"#9154a6\", \"#9156a6\", \"#9157a7\", \"#9258a7\", \"#9259a8\", \"#925aa8\", \"#925ba9\", \"#925da9\", \"#925faa\", \"#9260ab\", \"#9260ab\", \"#9263ac\", \"#9264ac\", \"#9265ad\", \"#9266ae\", \"#9268ae\", \"#9269ae\", \"#926aaf\", \"#926bb0\", \"#926cb0\", \"#926eb1\", \"#926fb1\", \"#9270b2\", \"#9271b2\", \"#9273b3\", \"#9274b3\", \"#9275b4\", \"#9277b5\", \"#9277b5\", \"#9278b6\", \"#927ab6\", \"#927bb7\", \"#927cb7\", \"#927eb8\", \"#927fb8\", \"#9280b9\", \"#9281ba\", \"#9282ba\", \"#9284bb\", \"#9285bb\", \"#9285bc\", \"#9187bc\", \"#9188bd\", \"#918abd\", \"#918bbe\", \"#918cbf\", \"#918dbf\", \"#918ec0\", \"#918fc0\", \"#9191c1\", \"#9092c2\", \"#9094c2\", \"#9094c2\", \"#9095c3\", \"#9096c3\", \"#8f99c4\", \"#8f9ac5\", \"#8f9ac5\", \"#8f9bc6\", \"#8f9cc6\", \"#8f9dc7\", \"#8e9fc8\", \"#8ea0c8\", \"#8ea2c9\", \"#8ea3c9\", \"#8da5ca\", \"#8da5ca\", \"#8da6cb\", \"#8da7cb\", \"#8ca9cc\", \"#8caacc\", \"#8caccd\", \"#8bacce\", \"#8badce\", \"#8baecf\", \"#8ab0d0\", \"#8ab2d0\", \"#8ab2d1\", \"#8ab4d1\", \"#89b4d1\", \"#89b5d2\", \"#89b7d2\", \"#88b8d3\", \"#88bad4\", \"#87bad4\", \"#87bbd5\", \"#86bdd6\", \"#86bed6\", \"#86c0d7\", \"#85c0d7\", \"#85c1d8\", \"#84c3d8\", \"#84c4d9\", \"#83c5d9\", \"#83c6da\", \"#82c8da\", \"#82c8db\", \"#81cadc\", \"#81cbdc\", \"#80ccdd\", \"#81cddd\", \"#84cfdd\", \"#85cfdd\", \"#87d0dd\", \"#8ad0de\", \"#8dd1de\", \"#8fd2de\", \"#90d2de\", \"#92d4de\", \"#95d5de\", \"#97d5de\", \"#98d6de\", \"#9bd7de\", \"#9dd7df\", \"#a0d8df\", \"#a1d9df\", \"#a2dadf\", \"#a5dadf\", \"#a7dbdf\", \"#aadcdf\", \"#abdddf\", \"#acdde0\", \"#afdfe0\", \"#b1dfe0\", \"#b3e0e0\", \"#b4e1e0\", \"#b7e2e0\", \"#bae2e1\", \"#bae3e1\", \"#bee3e2\", \"#c0e4e3\", \"#c1e5e3\", \"#c4e6e3\", \"#c6e6e4\", \"#c8e7e4\", \"#cbe7e5\", \"#cde8e5\", \"#cee9e6\", \"#d2e9e7\", \"#d3eae7\", \"#d5eae7\", \"#d8ebe8\", \"#d9ece8\", \"#dcece9\", \"#deedea\", \"#dfeeea\", \"#e2eeea\", \"#e5efeb\", \"#e6f0eb\", \"#e9f0ec\", \"#ebf1ed\", \"#ecf2ed\", \"#eff3ee\", \"#f1f3ee\"]\n",
    "visParams = Dict(\n",
    "    :min => 0,\n",
    "    :max => 100,\n",
    "    :palette => blue_fluorite,\n",
    ")\n"
   ]
  },
  {
   "cell_type": "code",
   "execution_count": 5,
   "id": "00a982cc",
   "metadata": {},
   "outputs": [
    {
     "data": {
      "text/plain": [
       "Dict{Any, Any} with 4 entries:\n",
       "  \"tile_fetcher\" => PyObject <ee.data.TileFetcher object at 0x000000008FB8A070>\n",
       "  \"token\"        => \"\"\n",
       "  \"mapid\"        => \"projects/earthengine-legacy/maps/5ffa45f7a6411ed711cfc6ab0…\n",
       "  \"image\"        => PyObject <ee.image.Image object at 0x000000008FD28790>"
      ]
     },
     "execution_count": 5,
     "metadata": {},
     "output_type": "execute_result"
    }
   ],
   "source": [
    "map_id_dict = ee.Image(image).getMapId(visParams)"
   ]
  },
  {
   "cell_type": "code",
   "execution_count": 11,
   "id": "36f6c3e7",
   "metadata": {},
   "outputs": [
    {
     "data": {
      "text/plain": [
       "\"https://earthengine.googleapis.com/v1alpha/projects/earthengine-legacy/maps/5ffa45f7a6411ed711cfc6ab02932198-4425061d706804744488394838737c44/tiles/{z}/{x}/{y}\""
      ]
     },
     "execution_count": 11,
     "metadata": {},
     "output_type": "execute_result"
    }
   ],
   "source": [
    "map_url = map_id_dict[\"tile_fetcher\"].url_format"
   ]
  },
  {
   "cell_type": "code",
   "execution_count": 12,
   "id": "088e321c",
   "metadata": {},
   "outputs": [
    {
     "data": {
      "text/plain": [
       "LeafletJS.Provider.LeafletProvider(\"https://earthengine.googleapis.com/v1alpha/projects/earthengine-legacy/maps/5ffa45f7a6411ed711cfc6ab02932198-4425061d706804744488394838737c44/tiles/{z}/{x}/{y}\", Dict{Symbol, Any}(:maxZoom => 20))"
      ]
     },
     "execution_count": 12,
     "metadata": {},
     "output_type": "execute_result"
    }
   ],
   "source": [
    "eelayer = Provider.EELayer(map_url)\n"
   ]
  },
  {
   "cell_type": "code",
   "execution_count": 13,
   "id": "39ff5e05",
   "metadata": {},
   "outputs": [
    {
     "data": {
      "application/vnd.webio.node+json": {
       "children": [
        {
         "children": [
          {
           "children": [
            ""
           ],
           "instanceArgs": {
            "namespace": "html",
            "tag": "div"
           },
           "nodeType": "DOM",
           "props": {
            "id": "mapb0df9983-0df8-4ee5-ba74-9fef92bce257",
            "style": {
             "display": "flex",
             "flex": 5,
             "position ": "relative"
            }
           },
           "type": "node"
          }
         ],
         "instanceArgs": {
          "namespace": "html",
          "tag": "div"
         },
         "nodeType": "DOM",
         "props": {
          "style": {
           "display": "flex",
           "flex-direction": "column-reverse",
           "min-height": "400px"
          }
         },
         "type": "node"
        }
       ],
       "instanceArgs": {
        "handlers": {},
        "id": "13525775585470576265",
        "imports": {
         "data": [
          {
           "name": null,
           "type": "js",
           "url": "https://unpkg.com/leaflet@1.7.1/dist/leaflet.js"
          },
          {
           "name": null,
           "type": "css",
           "url": "https://unpkg.com/leaflet@1.7.1/dist/leaflet.css"
          },
          {
           "name": null,
           "type": "js",
           "url": "https://cdnjs.cloudflare.com/ajax/libs/underscore.js/1.8.3/underscore.js"
          },
          {
           "name": null,
           "type": "js",
           "url": "https://cdnjs.cloudflare.com/ajax/libs/chroma-js/1.3.3/chroma.min.js"
          }
         ],
         "type": "async_block"
        },
        "mount_callbacks": [
         "function () {\n    var handler = (function(p) {\n    var map = L.map('mapb0df9983-0df8-4ee5-ba74-9fef92bce257').setView([0.0, 0.0], 2);\n    L.tileLayer(\"https://earthengine.googleapis.com/v1alpha/projects/earthengine-legacy/maps/5ffa45f7a6411ed711cfc6ab02932198-4425061d706804744488394838737c44/tiles/{z}/{x}/{y}\",\"{\\nmaxZoom: 20\\n}\").addTo(map);\n    \n    \n}\n);\n    (WebIO.importBlock({\"data\":[{\"name\":null,\"type\":\"js\",\"url\":\"https://unpkg.com/leaflet@1.7.1/dist/leaflet.js\"},{\"name\":null,\"type\":\"css\",\"url\":\"https://unpkg.com/leaflet@1.7.1/dist/leaflet.css\"},{\"name\":null,\"type\":\"js\",\"url\":\"https://cdnjs.cloudflare.com/ajax/libs/underscore.js/1.8.3/underscore.js\"},{\"name\":null,\"type\":\"js\",\"url\":\"https://cdnjs.cloudflare.com/ajax/libs/chroma-js/1.3.3/chroma.min.js\"}],\"type\":\"async_block\"})).then((imports) => handler.apply(this, imports));\n}\n"
        ],
        "observables": {},
        "systemjs_options": null
       },
       "nodeType": "Scope",
       "props": {},
       "type": "node"
      },
      "text/html": [
       "<div\n",
       "    class=\"webio-mountpoint\"\n",
       "    data-webio-mountpoint=\"11746692479828329309\"\n",
       ">\n",
       "    <script>\n",
       "    (function(){\n",
       "    // Some integrations (namely, IJulia/Jupyter) use an alternate render pathway than\n",
       "    // just putting the html on the page. If WebIO isn't defined, then it's pretty likely\n",
       "    // that we're in one of those situations and the integration just isn't installed\n",
       "    // correctly.\n",
       "    if (typeof window.WebIO === \"undefined\") {\n",
       "        document\n",
       "            .querySelector('[data-webio-mountpoint=\"11746692479828329309\"]')\n",
       "            .innerHTML = (\n",
       "                '<div style=\"padding: 1em; background-color: #f8d6da; border: 1px solid #f5c6cb; font-weight: bold;\">' +\n",
       "                '<p><strong>WebIO not detected.</strong></p>' +\n",
       "                '<p>Please read ' +\n",
       "                '<a href=\"https://juliagizmos.github.io/WebIO.jl/latest/troubleshooting/not-detected/\" target=\"_blank\">the troubleshooting guide</a> ' +\n",
       "                'for more information on how to resolve this issue.</p>' +\n",
       "                '<p><a href=\"https://juliagizmos.github.io/WebIO.jl/latest/troubleshooting/not-detected/\" target=\"_blank\">https://juliagizmos.github.io/WebIO.jl/latest/troubleshooting/not-detected/</a></p>' +\n",
       "                '</div>'\n",
       "            );\n",
       "        return;\n",
       "    }\n",
       "    WebIO.mount(\n",
       "        document.querySelector('[data-webio-mountpoint=\"11746692479828329309\"]'),\n",
       "        {\"props\":{},\"nodeType\":\"Scope\",\"type\":\"node\",\"instanceArgs\":{\"imports\":{\"data\":[{\"name\":null,\"type\":\"js\",\"url\":\"https:\\/\\/unpkg.com\\/leaflet@1.7.1\\/dist\\/leaflet.js\"},{\"name\":null,\"type\":\"css\",\"url\":\"https:\\/\\/unpkg.com\\/leaflet@1.7.1\\/dist\\/leaflet.css\"},{\"name\":null,\"type\":\"js\",\"url\":\"https:\\/\\/cdnjs.cloudflare.com\\/ajax\\/libs\\/underscore.js\\/1.8.3\\/underscore.js\"},{\"name\":null,\"type\":\"js\",\"url\":\"https:\\/\\/cdnjs.cloudflare.com\\/ajax\\/libs\\/chroma-js\\/1.3.3\\/chroma.min.js\"}],\"type\":\"async_block\"},\"id\":\"13525775585470576265\",\"handlers\":{},\"systemjs_options\":null,\"mount_callbacks\":[\"function () {\\n    var handler = (function(p) {\\n    var map = L.map('mapb0df9983-0df8-4ee5-ba74-9fef92bce257').setView([0.0, 0.0], 2);\\n    L.tileLayer(\\\"https:\\/\\/earthengine.googleapis.com\\/v1alpha\\/projects\\/earthengine-legacy\\/maps\\/5ffa45f7a6411ed711cfc6ab02932198-4425061d706804744488394838737c44\\/tiles\\/{z}\\/{x}\\/{y}\\\",\\\"{\\\\nmaxZoom: 20\\\\n}\\\").addTo(map);\\n    \\n    \\n}\\n);\\n    (WebIO.importBlock({\\\"data\\\":[{\\\"name\\\":null,\\\"type\\\":\\\"js\\\",\\\"url\\\":\\\"https:\\/\\/unpkg.com\\/leaflet@1.7.1\\/dist\\/leaflet.js\\\"},{\\\"name\\\":null,\\\"type\\\":\\\"css\\\",\\\"url\\\":\\\"https:\\/\\/unpkg.com\\/leaflet@1.7.1\\/dist\\/leaflet.css\\\"},{\\\"name\\\":null,\\\"type\\\":\\\"js\\\",\\\"url\\\":\\\"https:\\/\\/cdnjs.cloudflare.com\\/ajax\\/libs\\/underscore.js\\/1.8.3\\/underscore.js\\\"},{\\\"name\\\":null,\\\"type\\\":\\\"js\\\",\\\"url\\\":\\\"https:\\/\\/cdnjs.cloudflare.com\\/ajax\\/libs\\/chroma-js\\/1.3.3\\/chroma.min.js\\\"}],\\\"type\\\":\\\"async_block\\\"})).then((imports) => handler.apply(this, imports));\\n}\\n\"],\"observables\":{}},\"children\":[{\"props\":{\"style\":{\"display\":\"flex\",\"min-height\":\"400px\",\"flex-direction\":\"column-reverse\"}},\"nodeType\":\"DOM\",\"type\":\"node\",\"instanceArgs\":{\"namespace\":\"html\",\"tag\":\"div\"},\"children\":[{\"props\":{\"id\":\"mapb0df9983-0df8-4ee5-ba74-9fef92bce257\",\"style\":{\"position \":\"relative\",\"display\":\"flex\",\"flex\":5}},\"nodeType\":\"DOM\",\"type\":\"node\",\"instanceArgs\":{\"namespace\":\"html\",\"tag\":\"div\"},\"children\":[\"\"]}]}]},\n",
       "        window,\n",
       "    );\n",
       "    })()\n",
       "    </script>\n",
       "</div>\n"
      ],
      "text/plain": [
       "(Scope(Node{WebIO.DOM}(WebIO.DOM(:html, :div), Any[Node{WebIO.DOM}(WebIO.DOM(:html, :div), Any[\"\"], Dict{Symbol, Any}(:id => \"mapb0df9983-0df8-4ee5-ba74-9fef92bce257\", :style => Dict{String, Any}(\"position \" => \"relative\", \"display\" => \"flex\", \"flex\" => 5)))], Dict{Symbol, Any}(:style => Dict(\"display\" => \"flex\", \"min-height\" => \"400px\", \"flex-direction\" => \"column-reverse\"))), Dict{String, Tuple{Observables.AbstractObservable, Union{Nothing, Bool}}}(), Set{String}(), nothing, Asset[Asset(\"js\", nothing, \"https://unpkg.com/leaflet@1.7.1/dist/leaflet.js\"), Asset(\"css\", nothing, \"https://unpkg.com/leaflet@1.7.1/dist/leaflet.css\"), Asset(\"js\", nothing, \"https://cdnjs.cloudflare.com/ajax/libs/underscore.js/1.8.3/underscore.js\"), Asset(\"js\", nothing, \"https://cdnjs.cloudflare.com/ajax/libs/chroma-js/1.3.3/chroma.min.js\")], Dict{Any, Any}(), WebIO.ConnectionPool(Channel{Any}(32), Set{AbstractConnection}(), Condition(Base.InvasiveLinkedList{Task}(Task (runnable) @0x0000000071b53e10, Task (runnable) @0x0000000071b53e10), Base.AlwaysLockedST(1))), WebIO.JSString[WebIO.JSString(\"function () {\\n    var handler = (function(p) {\\n    var map = L.map('mapb0df9983-0df8-4ee5-ba74-9fef92bce257').setView([0.0, 0.0], 2);\\n    L.tileLayer(\\\"https://earthengine.googleapis.com/v1alpha/projects/earthengine-legacy/maps/5ffa45f7a6411ed711cfc6ab02932198-4425061d706804744488394838737c44/tiles/{z}/{x}/{y}\\\",\\\"{\\\\nmaxZoom: 20\\\\n}\\\").addTo(map);\\n    \\n    \\n}\\n);\\n    (WebIO.importBlock({\\\"data\\\":[{\\\"name\\\":null,\\\"type\\\":\\\"js\\\",\\\"url\\\":\\\"https://unpkg.com/leaflet@1.7.1/dist/leaflet.js\\\"},{\\\"name\\\":null,\\\"type\\\":\\\"css\\\",\\\"url\\\":\\\"https://unpkg.com/leaflet@1.7.1/dist/leaflet.css\\\"},{\\\"name\\\":null,\\\"type\\\":\\\"js\\\",\\\"url\\\":\\\"https://cdnjs.cloudflare.com/ajax/libs/underscore.js/1.8.3/underscore.js\\\"},{\\\"name\\\":null,\\\"type\\\":\\\"js\\\",\\\"url\\\":\\\"https://cdnjs.cloudflare.com/ajax/libs/chroma-js/1.3.3/chroma.min.js\\\"}],\\\"type\\\":\\\"async_block\\\"})).then((imports) => handler.apply(this, imports));\\n}\\n\")]):\n",
       "  (div { style=Dict(\"display\" => \"flex\", \"min-height\" => \"400px\", \"flex-direction\" => \"column-reverse\") }\n",
       "    (div { id=\"mapb0df9983-0df8-4ee5-ba74-9fef92bce257\" style=Dict{String, Any}(\"position \" => \"relative\", \"display\" => \"flex\", \"flex\" => 5) }\n",
       "      \"\")))"
      ]
     },
     "execution_count": 13,
     "metadata": {
      "application/vnd.webio.node+json": {
       "kernelId": "94187f0d-c917-458b-ba0b-df1ec7693dd5"
      }
     },
     "output_type": "execute_result"
    }
   ],
   "source": [
    "map = LeafletMap(; provider=eelayer, zoom=2);\n",
    "# Notebooks currently needs this to work, I'm not sure why\n",
    "WebIO.render(map)"
   ]
  },
  {
   "cell_type": "code",
   "execution_count": 14,
   "id": "f9d19d2c",
   "metadata": {},
   "outputs": [
    {
     "data": {
      "text/plain": [
       "LeafletJS.Provider.LeafletProvider(\"http://tiles.openseamap.org/seamark/{z}/{x}/{y}.png\", Dict{Symbol, Any}(:attribution => \"Map data: &copy; <a href=\\\"http://www.openseamap.org\\\">OpenSeaMap</a> contributors\"))"
      ]
     },
     "execution_count": 14,
     "metadata": {},
     "output_type": "execute_result"
    }
   ],
   "source": [
    "osm"
   ]
  },
  {
   "cell_type": "code",
   "execution_count": 24,
   "id": "6312e758",
   "metadata": {},
   "outputs": [
    {
     "data": {
      "text/plain": [
       "typeof(EElayer) (singleton type of function EElayer, subtype of Function)"
      ]
     },
     "execution_count": 24,
     "metadata": {},
     "output_type": "execute_result"
    }
   ],
   "source": [
    "typeof(EElayer)"
   ]
  },
  {
   "cell_type": "code",
   "execution_count": 21,
   "id": "664f80c7",
   "metadata": {},
   "outputs": [
    {
     "ename": "LoadError",
     "evalue": "MethodError: no method matching getindex(::LeafletJS.Provider.LeafletProvider, ::String)",
     "output_type": "error",
     "traceback": [
      "MethodError: no method matching getindex(::LeafletJS.Provider.LeafletProvider, ::String)",
      "",
      "Stacktrace:",
      " [1] top-level scope",
      "   @ In[21]:1",
      " [2] eval",
      "   @ .\\boot.jl:373 [inlined]",
      " [3] include_string(mapexpr::typeof(REPL.softscope), mod::Module, code::String, filename::String)",
      "   @ Base .\\loading.jl:1196"
     ]
    }
   ],
   "source": []
  },
  {
   "cell_type": "code",
   "execution_count": null,
   "id": "41fa7f79",
   "metadata": {},
   "outputs": [],
   "source": []
  }
 ],
 "metadata": {
  "@webio": {
   "lastCommId": "e7480b00539645d78303153860e062e6",
   "lastKernelId": "94187f0d-c917-458b-ba0b-df1ec7693dd5"
  },
  "kernelspec": {
   "display_name": "Julia 1.7.0-rc1",
   "language": "julia",
   "name": "julia-1.7"
  },
  "language_info": {
   "file_extension": ".jl",
   "mimetype": "application/julia",
   "name": "julia",
   "version": "1.7.0"
  }
 },
 "nbformat": 4,
 "nbformat_minor": 5
}
